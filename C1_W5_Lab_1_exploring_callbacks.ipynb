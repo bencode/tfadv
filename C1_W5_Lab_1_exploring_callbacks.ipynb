{
  "nbformat": 4,
  "nbformat_minor": 0,
  "metadata": {
    "colab": {
      "name": "C1_W5_Lab_1_exploring-callbacks.ipynb",
      "provenance": [],
      "authorship_tag": "ABX9TyOPmSAGSRTSbThlXRy9FdoZ",
      "include_colab_link": true
    },
    "kernelspec": {
      "name": "python3",
      "display_name": "Python 3"
    },
    "language_info": {
      "name": "python"
    }
  },
  "cells": [
    {
      "cell_type": "markdown",
      "metadata": {
        "id": "view-in-github",
        "colab_type": "text"
      },
      "source": [
        "<a href=\"https://colab.research.google.com/github/bencode/tfadv/blob/main/C1_W5_Lab_1_exploring_callbacks.ipynb\" target=\"_parent\"><img src=\"https://colab.research.google.com/assets/colab-badge.svg\" alt=\"Open In Colab\"/></a>"
      ]
    },
    {
      "cell_type": "code",
      "metadata": {
        "colab": {
          "base_uri": "https://localhost:8080/"
        },
        "id": "r56pnPuTD1EO",
        "outputId": "ff0032e7-9653-46ca-cf03-d13724c3bece"
      },
      "source": [
        "from __future__ import absolute_import, division, print_function, unicode_literals\n",
        "\n",
        "try:\n",
        "    # %tensorflow_version only exists in Colab.\n",
        "    %tensorflow_version 2.x\n",
        "except Exception:\n",
        "    pass\n",
        "\n",
        "import tensorflow as tf\n",
        "import tensorflow_datasets as tfds\n",
        "import matplotlib.pyplot as plt\n",
        "import io\n",
        "from PIL import Image\n",
        "\n",
        "from tensorflow.keras.callbacks import TensorBoard, EarlyStopping, LearningRateScheduler, ModelCheckpoint, CSVLogger, ReduceLROnPlateau\n",
        "%load_ext tensorboard\n",
        "\n",
        "import os\n",
        "import matplotlib.pylab as plt\n",
        "import numpy as np\n",
        "import math\n",
        "import datetime\n",
        "import pandas as pd\n",
        "\n",
        "print(\"Version: \", tf.__version__)\n",
        "tf.get_logger().setLevel('INFO')"
      ],
      "execution_count": 1,
      "outputs": [
        {
          "output_type": "stream",
          "text": [
            "Version:  2.5.0\n"
          ],
          "name": "stdout"
        }
      ]
    },
    {
      "cell_type": "code",
      "metadata": {
        "id": "XvBWjVWKD4nU"
      },
      "source": [
        "# Download and prepare the horses or humans dataset\n",
        "\n",
        "splits, info = tfds.load('horses_or_humans', as_supervised=True, with_info=True, split=['train[:80%]', 'train[80%:]', 'test'])\n",
        "\n",
        "(train_examples, validation_examples, test_examples) = splits\n",
        "\n",
        "num_examples = info.splits['train'].num_examples\n",
        "num_classes = info.features['label'].num_classes"
      ],
      "execution_count": 3,
      "outputs": []
    },
    {
      "cell_type": "code",
      "metadata": {
        "id": "QH2Zw_sdD8A6"
      },
      "source": [
        "SIZE = 150 #@param {type:\"slider\", min:64, max:300, step:1}\n",
        "IMAGE_SIZE = (SIZE, SIZE)"
      ],
      "execution_count": 5,
      "outputs": []
    },
    {
      "cell_type": "code",
      "metadata": {
        "id": "9cF1Lo7SEH6B"
      },
      "source": [
        "def format_image(image, label):\n",
        "  image = tf.image.resize(image, IMAGE_SIZE) / 255.0\n",
        "  return  image, label"
      ],
      "execution_count": 6,
      "outputs": []
    },
    {
      "cell_type": "code",
      "metadata": {
        "id": "UKmLkWZpETSA"
      },
      "source": [
        "BATCH_SIZE = 32 #@param {type:\"integer\"}"
      ],
      "execution_count": 7,
      "outputs": []
    },
    {
      "cell_type": "code",
      "metadata": {
        "id": "T-KegXUIEVg4"
      },
      "source": [
        "train_batches = train_examples.shuffle(num_examples // 4).map(format_image).batch(BATCH_SIZE).prefetch(1)\n",
        "validation_batches = validation_examples.map(format_image).batch(BATCH_SIZE).prefetch(1)\n",
        "test_batches = test_examples.map(format_image).batch(1)"
      ],
      "execution_count": 9,
      "outputs": []
    },
    {
      "cell_type": "code",
      "metadata": {
        "colab": {
          "base_uri": "https://localhost:8080/"
        },
        "id": "luOcUO96EbPI",
        "outputId": "bbc2057b-b90f-47aa-a9cb-d2584f79d416"
      },
      "source": [
        "for image_batch, label_batch in train_batches.take(1):\n",
        "  pass\n",
        "\n",
        "image_batch.shape"
      ],
      "execution_count": 10,
      "outputs": [
        {
          "output_type": "execute_result",
          "data": {
            "text/plain": [
              "TensorShape([32, 150, 150, 3])"
            ]
          },
          "metadata": {
            "tags": []
          },
          "execution_count": 10
        }
      ]
    },
    {
      "cell_type": "code",
      "metadata": {
        "id": "X88LnQfYEgRt"
      },
      "source": [
        "def build_model(dense_units, input_shape=IMAGE_SIZE + (3,)):\n",
        "  model = tf.keras.models.Sequential([\n",
        "      tf.keras.layers.Conv2D(16, (3, 3), activation='relu', input_shape=input_shape),\n",
        "      tf.keras.layers.MaxPooling2D(2, 2),\n",
        "      tf.keras.layers.Conv2D(32, (3, 3), activation='relu'),\n",
        "      tf.keras.layers.MaxPooling2D(2, 2),\n",
        "      tf.keras.layers.Conv2D(64, (3, 3), activation='relu'),\n",
        "      tf.keras.layers.MaxPooling2D(2, 2),\n",
        "      tf.keras.layers.Flatten(),\n",
        "      tf.keras.layers.Dense(dense_units, activation='relu'),\n",
        "      tf.keras.layers.Dense(2, activation='softmax')\n",
        "  ])\n",
        "  return model"
      ],
      "execution_count": 11,
      "outputs": []
    },
    {
      "cell_type": "code",
      "metadata": {
        "id": "Npk9ro0xEiYF"
      },
      "source": [
        "!rm -rf logs"
      ],
      "execution_count": 12,
      "outputs": []
    },
    {
      "cell_type": "code",
      "metadata": {
        "colab": {
          "base_uri": "https://localhost:8080/"
        },
        "id": "fzWAr3hnEkmV",
        "outputId": "4e36f941-3e27-48b9-a5c6-a4afc7817b3c"
      },
      "source": [
        "model = build_model(dense_units=256)\n",
        "model.compile(\n",
        "    optimizer='sgd',\n",
        "    loss='sparse_categorical_crossentropy', \n",
        "    metrics=['accuracy'])\n",
        "  \n",
        "logdir = os.path.join(\"logs\", datetime.datetime.now().strftime(\"%Y%m%d-%H%M%S\"))\n",
        "tensorboard_callback = tf.keras.callbacks.TensorBoard(logdir)\n",
        "\n",
        "model.fit(train_batches, \n",
        "          epochs=10, \n",
        "          validation_data=validation_batches, \n",
        "          callbacks=[tensorboard_callback])"
      ],
      "execution_count": 13,
      "outputs": [
        {
          "output_type": "stream",
          "text": [
            "Epoch 1/10\n",
            "26/26 [==============================] - 23s 807ms/step - loss: 0.6779 - accuracy: 0.5560 - val_loss: 0.6749 - val_accuracy: 0.5073\n",
            "Epoch 2/10\n",
            "26/26 [==============================] - 21s 765ms/step - loss: 0.6425 - accuracy: 0.6302 - val_loss: 0.6269 - val_accuracy: 0.6683\n",
            "Epoch 3/10\n",
            "26/26 [==============================] - 22s 795ms/step - loss: 0.6100 - accuracy: 0.6667 - val_loss: 0.6434 - val_accuracy: 0.5512\n",
            "Epoch 4/10\n",
            "26/26 [==============================] - 22s 799ms/step - loss: 0.5671 - accuracy: 0.7287 - val_loss: 0.5080 - val_accuracy: 0.8878\n",
            "Epoch 5/10\n",
            "26/26 [==============================] - 22s 795ms/step - loss: 0.5247 - accuracy: 0.7555 - val_loss: 0.5710 - val_accuracy: 0.6488\n",
            "Epoch 6/10\n",
            "26/26 [==============================] - 22s 786ms/step - loss: 0.4880 - accuracy: 0.8005 - val_loss: 0.3983 - val_accuracy: 0.9220\n",
            "Epoch 7/10\n",
            "26/26 [==============================] - 21s 773ms/step - loss: 0.4132 - accuracy: 0.8370 - val_loss: 0.3350 - val_accuracy: 0.9171\n",
            "Epoch 8/10\n",
            "26/26 [==============================] - 22s 788ms/step - loss: 0.3583 - accuracy: 0.8625 - val_loss: 0.2950 - val_accuracy: 0.9220\n",
            "Epoch 9/10\n",
            "26/26 [==============================] - 22s 788ms/step - loss: 0.2880 - accuracy: 0.9027 - val_loss: 0.2660 - val_accuracy: 0.9610\n",
            "Epoch 10/10\n",
            "26/26 [==============================] - 22s 796ms/step - loss: 0.2239 - accuracy: 0.9440 - val_loss: 0.1697 - val_accuracy: 0.9659\n"
          ],
          "name": "stdout"
        },
        {
          "output_type": "execute_result",
          "data": {
            "text/plain": [
              "<tensorflow.python.keras.callbacks.History at 0x7f52815b2450>"
            ]
          },
          "metadata": {
            "tags": []
          },
          "execution_count": 13
        }
      ]
    },
    {
      "cell_type": "code",
      "metadata": {
        "id": "rzBqlAAGEopI"
      },
      "source": [
        ""
      ],
      "execution_count": null,
      "outputs": []
    }
  ]
}