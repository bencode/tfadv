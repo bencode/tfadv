{
  "nbformat": 4,
  "nbformat_minor": 0,
  "metadata": {
    "colab": {
      "name": "Intro_to_PyTorch.ipynb",
      "provenance": [],
      "authorship_tag": "ABX9TyMi9KA/MhfP+Iq6uVq9qShM",
      "include_colab_link": true
    },
    "kernelspec": {
      "name": "python3",
      "display_name": "Python 3"
    },
    "language_info": {
      "name": "python"
    },
    "accelerator": "GPU"
  },
  "cells": [
    {
      "cell_type": "markdown",
      "metadata": {
        "id": "view-in-github",
        "colab_type": "text"
      },
      "source": [
        "<a href=\"https://colab.research.google.com/github/bencode/tfadv/blob/main/Intro_to_PyTorch.ipynb\" target=\"_parent\"><img src=\"https://colab.research.google.com/assets/colab-badge.svg\" alt=\"Open In Colab\"/></a>"
      ]
    },
    {
      "cell_type": "code",
      "metadata": {
        "id": "RvXs2RErWCu7"
      },
      "source": [
        "import torch"
      ],
      "execution_count": 1,
      "outputs": []
    },
    {
      "cell_type": "code",
      "metadata": {
        "id": "N1PfKySaWKhu"
      },
      "source": [
        "example_tensor = torch.Tensor(\n",
        "    [\n",
        "     [[1, 2], [3, 4]], \n",
        "     [[5, 6], [7, 8]], \n",
        "     [[9, 0], [1, 2]]\n",
        "    ]\n",
        ")"
      ],
      "execution_count": 2,
      "outputs": []
    },
    {
      "cell_type": "code",
      "metadata": {
        "colab": {
          "base_uri": "https://localhost:8080/"
        },
        "id": "xRuLDznxWRgz",
        "outputId": "e47c7578-92b5-4cd7-904b-34780d4fb95a"
      },
      "source": [
        "example_tensor"
      ],
      "execution_count": 3,
      "outputs": [
        {
          "output_type": "execute_result",
          "data": {
            "text/plain": [
              "tensor([[[1., 2.],\n",
              "         [3., 4.]],\n",
              "\n",
              "        [[5., 6.],\n",
              "         [7., 8.]],\n",
              "\n",
              "        [[9., 0.],\n",
              "         [1., 2.]]])"
            ]
          },
          "metadata": {
            "tags": []
          },
          "execution_count": 3
        }
      ]
    },
    {
      "cell_type": "code",
      "metadata": {
        "colab": {
          "base_uri": "https://localhost:8080/"
        },
        "id": "3X63zwCtWTP9",
        "outputId": "aab2f9f8-c19e-4ec6-bbec-c077faef5fab"
      },
      "source": [
        "example_tensor.device"
      ],
      "execution_count": 4,
      "outputs": [
        {
          "output_type": "execute_result",
          "data": {
            "text/plain": [
              "device(type='cpu')"
            ]
          },
          "metadata": {
            "tags": []
          },
          "execution_count": 4
        }
      ]
    },
    {
      "cell_type": "code",
      "metadata": {
        "colab": {
          "base_uri": "https://localhost:8080/"
        },
        "id": "OrMIG5cgWVOK",
        "outputId": "71684685-2280-499b-80a6-6fed51b045d2"
      },
      "source": [
        "example_tensor.shape"
      ],
      "execution_count": 5,
      "outputs": [
        {
          "output_type": "execute_result",
          "data": {
            "text/plain": [
              "torch.Size([3, 2, 2])"
            ]
          },
          "metadata": {
            "tags": []
          },
          "execution_count": 5
        }
      ]
    },
    {
      "cell_type": "code",
      "metadata": {
        "colab": {
          "base_uri": "https://localhost:8080/"
        },
        "id": "vdz6L4TvWXNE",
        "outputId": "d5b3f64a-a001-44db-c539-e2a0b753a4a2"
      },
      "source": [
        "print(\"shape[0] =\", example_tensor.shape[0])\n",
        "print(\"size(1) =\", example_tensor.size(1))"
      ],
      "execution_count": 6,
      "outputs": [
        {
          "output_type": "stream",
          "text": [
            "shape[0] = 3\n",
            "size(1) = 2\n"
          ],
          "name": "stdout"
        }
      ]
    },
    {
      "cell_type": "code",
      "metadata": {
        "colab": {
          "base_uri": "https://localhost:8080/"
        },
        "id": "jvI1atFCWZGe",
        "outputId": "bc851ffc-3d4d-4ba2-e91f-461da22cb79a"
      },
      "source": [
        "print(\"Rank =\", len(example_tensor.shape))\n",
        "print(\"Number of elements =\", example_tensor.numel())"
      ],
      "execution_count": 7,
      "outputs": [
        {
          "output_type": "stream",
          "text": [
            "Rank = 3\n",
            "Number of elements = 12\n"
          ],
          "name": "stdout"
        }
      ]
    },
    {
      "cell_type": "code",
      "metadata": {
        "colab": {
          "base_uri": "https://localhost:8080/"
        },
        "id": "_YDZvZPmWbNi",
        "outputId": "f6ddcaae-1312-4822-a64e-f856093d8ce7"
      },
      "source": [
        "example_tensor[1]"
      ],
      "execution_count": 8,
      "outputs": [
        {
          "output_type": "execute_result",
          "data": {
            "text/plain": [
              "tensor([[5., 6.],\n",
              "        [7., 8.]])"
            ]
          },
          "metadata": {
            "tags": []
          },
          "execution_count": 8
        }
      ]
    },
    {
      "cell_type": "code",
      "metadata": {
        "colab": {
          "base_uri": "https://localhost:8080/"
        },
        "id": "iO_Dzx_WWeUK",
        "outputId": "dcb11b26-69fc-4e8f-96dc-fbdc5cb6975c"
      },
      "source": [
        "example_tensor[1, 1, 0]"
      ],
      "execution_count": 9,
      "outputs": [
        {
          "output_type": "execute_result",
          "data": {
            "text/plain": [
              "tensor(7.)"
            ]
          },
          "metadata": {
            "tags": []
          },
          "execution_count": 9
        }
      ]
    },
    {
      "cell_type": "code",
      "metadata": {
        "colab": {
          "base_uri": "https://localhost:8080/"
        },
        "id": "rxufi7jAWgCB",
        "outputId": "dc436f58-d119-4f89-b86c-3d81172e5913"
      },
      "source": [
        "example_scalar = example_tensor[1, 1, 0]\n",
        "example_scalar.item()"
      ],
      "execution_count": 10,
      "outputs": [
        {
          "output_type": "execute_result",
          "data": {
            "text/plain": [
              "7.0"
            ]
          },
          "metadata": {
            "tags": []
          },
          "execution_count": 10
        }
      ]
    },
    {
      "cell_type": "code",
      "metadata": {
        "colab": {
          "base_uri": "https://localhost:8080/"
        },
        "id": "t52Fe70wWhyX",
        "outputId": "53b83f11-2bbb-415d-9c2d-5da67b6318e3"
      },
      "source": [
        "example_tensor[:, 0, 0]"
      ],
      "execution_count": 11,
      "outputs": [
        {
          "output_type": "execute_result",
          "data": {
            "text/plain": [
              "tensor([1., 5., 9.])"
            ]
          },
          "metadata": {
            "tags": []
          },
          "execution_count": 11
        }
      ]
    },
    {
      "cell_type": "code",
      "metadata": {
        "colab": {
          "base_uri": "https://localhost:8080/"
        },
        "id": "Nzmkrd1gWjb9",
        "outputId": "335af372-4858-4492-d575-68b2e8fc1e82"
      },
      "source": [
        "torch.ones_like(example_tensor)"
      ],
      "execution_count": 12,
      "outputs": [
        {
          "output_type": "execute_result",
          "data": {
            "text/plain": [
              "tensor([[[1., 1.],\n",
              "         [1., 1.]],\n",
              "\n",
              "        [[1., 1.],\n",
              "         [1., 1.]],\n",
              "\n",
              "        [[1., 1.],\n",
              "         [1., 1.]]])"
            ]
          },
          "metadata": {
            "tags": []
          },
          "execution_count": 12
        }
      ]
    },
    {
      "cell_type": "code",
      "metadata": {
        "colab": {
          "base_uri": "https://localhost:8080/"
        },
        "id": "V_00cqGhWoTR",
        "outputId": "e2e3e683-b5de-4acf-81c7-688b9e569b23"
      },
      "source": [
        "torch.zeros_like(example_tensor)"
      ],
      "execution_count": 13,
      "outputs": [
        {
          "output_type": "execute_result",
          "data": {
            "text/plain": [
              "tensor([[[0., 0.],\n",
              "         [0., 0.]],\n",
              "\n",
              "        [[0., 0.],\n",
              "         [0., 0.]],\n",
              "\n",
              "        [[0., 0.],\n",
              "         [0., 0.]]])"
            ]
          },
          "metadata": {
            "tags": []
          },
          "execution_count": 13
        }
      ]
    },
    {
      "cell_type": "code",
      "metadata": {
        "colab": {
          "base_uri": "https://localhost:8080/"
        },
        "id": "9aulBYK2WqGc",
        "outputId": "09717019-9c8a-46dc-c6d9-2f6e9c1b3fc9"
      },
      "source": [
        "torch.randn_like(example_tensor)"
      ],
      "execution_count": 14,
      "outputs": [
        {
          "output_type": "execute_result",
          "data": {
            "text/plain": [
              "tensor([[[ 0.0359,  0.0229],\n",
              "         [ 1.8568,  0.0744]],\n",
              "\n",
              "        [[ 0.5055, -0.1694],\n",
              "         [ 0.9345,  0.6959]],\n",
              "\n",
              "        [[-1.1081, -1.6198],\n",
              "         [-0.1074, -1.1662]]])"
            ]
          },
          "metadata": {
            "tags": []
          },
          "execution_count": 14
        }
      ]
    },
    {
      "cell_type": "code",
      "metadata": {
        "colab": {
          "base_uri": "https://localhost:8080/"
        },
        "id": "l_TSevsjWr0L",
        "outputId": "64f184d4-83c3-451e-ff1a-9190f58131db"
      },
      "source": [
        "torch.randn(2, 2, device='cuda') # Alternatively, for a GPU tensor, you'd use device='cuda'"
      ],
      "execution_count": 17,
      "outputs": [
        {
          "output_type": "execute_result",
          "data": {
            "text/plain": [
              "tensor([[ 0.8512,  0.9256],\n",
              "        [-0.9231,  0.3310]], device='cuda:0')"
            ]
          },
          "metadata": {
            "tags": []
          },
          "execution_count": 17
        }
      ]
    },
    {
      "cell_type": "code",
      "metadata": {
        "colab": {
          "base_uri": "https://localhost:8080/"
        },
        "id": "gRkt2z6-WzXW",
        "outputId": "464a63d0-027e-47a8-fa9b-ba75b3cc7ff2"
      },
      "source": [
        "(example_tensor - 5) * 2"
      ],
      "execution_count": 18,
      "outputs": [
        {
          "output_type": "execute_result",
          "data": {
            "text/plain": [
              "tensor([[[ -8.,  -6.],\n",
              "         [ -4.,  -2.]],\n",
              "\n",
              "        [[  0.,   2.],\n",
              "         [  4.,   6.]],\n",
              "\n",
              "        [[  8., -10.],\n",
              "         [ -8.,  -6.]]])"
            ]
          },
          "metadata": {
            "tags": []
          },
          "execution_count": 18
        }
      ]
    },
    {
      "cell_type": "code",
      "metadata": {
        "colab": {
          "base_uri": "https://localhost:8080/"
        },
        "id": "PfBuJIU1W6ek",
        "outputId": "8a3a1e36-07c4-4749-f7e2-2658e78b718b"
      },
      "source": [
        "print(\"Mean:\", example_tensor.mean())\n",
        "print(\"Stdev:\", example_tensor.std())"
      ],
      "execution_count": 19,
      "outputs": [
        {
          "output_type": "stream",
          "text": [
            "Mean: tensor(4.)\n",
            "Stdev: tensor(2.9848)\n"
          ],
          "name": "stdout"
        }
      ]
    },
    {
      "cell_type": "code",
      "metadata": {
        "colab": {
          "base_uri": "https://localhost:8080/"
        },
        "id": "PIPI6NYIW833",
        "outputId": "4161b4f7-e7f6-4194-d69c-4cdb175c244a"
      },
      "source": [
        "example_tensor.mean(0)\n",
        "\n",
        "# Equivalently, you could also write:\n",
        "# example_tensor.mean(dim=0)\n",
        "# example_tensor.mean(axis=0)\n",
        "# torch.mean(example_tensor, 0)\n",
        "# torch.mean(example_tensor, dim=0)\n",
        "# torch.mean(example_tensor, axis=0)"
      ],
      "execution_count": 20,
      "outputs": [
        {
          "output_type": "execute_result",
          "data": {
            "text/plain": [
              "tensor([[5.0000, 2.6667],\n",
              "        [3.6667, 4.6667]])"
            ]
          },
          "metadata": {
            "tags": []
          },
          "execution_count": 20
        }
      ]
    },
    {
      "cell_type": "code",
      "metadata": {
        "id": "fDCxz9ZZW-k6"
      },
      "source": [
        "import torch.nn as nn"
      ],
      "execution_count": 21,
      "outputs": []
    },
    {
      "cell_type": "code",
      "metadata": {
        "colab": {
          "base_uri": "https://localhost:8080/"
        },
        "id": "G8rAdbKHXAPi",
        "outputId": "bf627f3b-e2c9-487f-979e-ce8b2e10efaa"
      },
      "source": [
        "linear = nn.Linear(10, 2)\n",
        "example_input = torch.randn(3, 10)\n",
        "example_output = linear(example_input)\n",
        "example_output"
      ],
      "execution_count": 22,
      "outputs": [
        {
          "output_type": "execute_result",
          "data": {
            "text/plain": [
              "tensor([[-0.6607,  0.1885],\n",
              "        [-0.8685, -0.5735],\n",
              "        [-0.3218,  0.2426]], grad_fn=<AddmmBackward>)"
            ]
          },
          "metadata": {
            "tags": []
          },
          "execution_count": 22
        }
      ]
    },
    {
      "cell_type": "code",
      "metadata": {
        "colab": {
          "base_uri": "https://localhost:8080/"
        },
        "id": "m9tYVpeUXB6N",
        "outputId": "4a04938d-dade-46a8-9aaf-22cf4ea83c6f"
      },
      "source": [
        "relu = nn.ReLU()\n",
        "relu_output = relu(example_output)\n",
        "relu_output"
      ],
      "execution_count": 23,
      "outputs": [
        {
          "output_type": "execute_result",
          "data": {
            "text/plain": [
              "tensor([[0.0000, 0.1885],\n",
              "        [0.0000, 0.0000],\n",
              "        [0.0000, 0.2426]], grad_fn=<ReluBackward0>)"
            ]
          },
          "metadata": {
            "tags": []
          },
          "execution_count": 23
        }
      ]
    },
    {
      "cell_type": "code",
      "metadata": {
        "colab": {
          "base_uri": "https://localhost:8080/"
        },
        "id": "WxJgLFVtXDd7",
        "outputId": "abdf8ab7-c0de-4766-f5d9-96c48ecba01f"
      },
      "source": [
        "batchnorm = nn.BatchNorm1d(2)\n",
        "batchnorm_output = batchnorm(relu_output)\n",
        "batchnorm_output"
      ],
      "execution_count": 24,
      "outputs": [
        {
          "output_type": "execute_result",
          "data": {
            "text/plain": [
              "tensor([[ 0.0000,  0.4305],\n",
              "        [ 0.0000, -1.3813],\n",
              "        [ 0.0000,  0.9508]], grad_fn=<NativeBatchNormBackward>)"
            ]
          },
          "metadata": {
            "tags": []
          },
          "execution_count": 24
        }
      ]
    },
    {
      "cell_type": "code",
      "metadata": {
        "colab": {
          "base_uri": "https://localhost:8080/"
        },
        "id": "z-CjQ265XFLz",
        "outputId": "7bf117e9-47b3-40b3-f529-dd4529edd772"
      },
      "source": [
        "mlp_layer = nn.Sequential(\n",
        "    nn.Linear(5, 2),\n",
        "    nn.BatchNorm1d(2),\n",
        "    nn.ReLU()\n",
        ")\n",
        "\n",
        "test_example = torch.randn(5,5) + 1\n",
        "print(\"input: \")\n",
        "print(test_example)\n",
        "print(\"output: \")\n",
        "print(mlp_layer(test_example))"
      ],
      "execution_count": 25,
      "outputs": [
        {
          "output_type": "stream",
          "text": [
            "input: \n",
            "tensor([[-1.1317, -0.7315,  0.7349,  1.9057, -0.4153],\n",
            "        [ 0.9327,  0.9265,  1.2765,  0.3048,  0.2489],\n",
            "        [ 0.3363,  1.6208,  3.5646,  1.2208,  1.3009],\n",
            "        [ 1.8885,  0.4781,  1.1518,  0.5870, -0.1638],\n",
            "        [ 2.0466,  0.5252,  1.3892,  2.4371,  0.7403]])\n",
            "output: \n",
            "tensor([[0.0000, 1.0805],\n",
            "        [0.0000, 0.8802],\n",
            "        [0.0000, 0.0000],\n",
            "        [0.6691, 0.1439],\n",
            "        [1.3271, 0.0000]], grad_fn=<ReluBackward0>)\n"
          ],
          "name": "stdout"
        }
      ]
    },
    {
      "cell_type": "code",
      "metadata": {
        "id": "PEu_pKQIXG7U"
      },
      "source": [
        "import torch.optim as optim\n",
        "adam_opt = optim.Adam(mlp_layer.parameters(), lr=1e-1)"
      ],
      "execution_count": 26,
      "outputs": []
    },
    {
      "cell_type": "code",
      "metadata": {
        "colab": {
          "base_uri": "https://localhost:8080/"
        },
        "id": "5UfwmO5DXJ5T",
        "outputId": "0e4a2c82-5158-4545-ac8a-e8bb90a94aa2"
      },
      "source": [
        "train_example = torch.randn(100,5) + 1\n",
        "adam_opt.zero_grad()\n",
        "\n",
        "# We'll use a simple loss function of mean distance from 1\n",
        "# torch.abs takes the absolute value of a tensor\n",
        "cur_loss = torch.abs(1 - mlp_layer(train_example)).mean()\n",
        "\n",
        "cur_loss.backward()\n",
        "adam_opt.step()\n",
        "print(cur_loss)"
      ],
      "execution_count": 27,
      "outputs": [
        {
          "output_type": "stream",
          "text": [
            "tensor(0.7705, grad_fn=<MeanBackward0>)\n"
          ],
          "name": "stdout"
        }
      ]
    },
    {
      "cell_type": "code",
      "metadata": {
        "id": "zz3e_q53XOM1"
      },
      "source": [
        "class ExampleModule(nn.Module):\n",
        "    def __init__(self, input_dims, output_dims):\n",
        "        super(ExampleModule, self).__init__()\n",
        "        self.linear = nn.Linear(input_dims, output_dims)\n",
        "        self.exponent = nn.Parameter(torch.tensor(1.))\n",
        "\n",
        "    def forward(self, x):\n",
        "        x = self.linear(x)\n",
        "\n",
        "        # This is the notation for element-wise exponentiation, \n",
        "        # which matches python in general\n",
        "        x = x ** self.exponent \n",
        "        \n",
        "        return x"
      ],
      "execution_count": 28,
      "outputs": []
    },
    {
      "cell_type": "code",
      "metadata": {
        "colab": {
          "base_uri": "https://localhost:8080/"
        },
        "id": "lhjc_jZ0XURE",
        "outputId": "413cba49-af16-4619-a44e-9fcbd2a4be70"
      },
      "source": [
        "example_model = ExampleModule(10, 2)\n",
        "list(example_model.parameters())"
      ],
      "execution_count": 29,
      "outputs": [
        {
          "output_type": "execute_result",
          "data": {
            "text/plain": [
              "[Parameter containing:\n",
              " tensor(1., requires_grad=True), Parameter containing:\n",
              " tensor([[ 0.1930,  0.0982,  0.2016,  0.1974,  0.0592,  0.1147, -0.0805, -0.1470,\n",
              "           0.2363, -0.1402],\n",
              "         [ 0.0957, -0.2338, -0.1695, -0.1359, -0.1167,  0.0745, -0.0330, -0.2755,\n",
              "           0.2197, -0.2767]], requires_grad=True), Parameter containing:\n",
              " tensor([0.2678, 0.2512], requires_grad=True)]"
            ]
          },
          "metadata": {
            "tags": []
          },
          "execution_count": 29
        }
      ]
    },
    {
      "cell_type": "code",
      "metadata": {
        "colab": {
          "base_uri": "https://localhost:8080/"
        },
        "id": "L-haiU73XWL6",
        "outputId": "8e34e08a-8111-4dff-fd6b-faa96f8a9a6a"
      },
      "source": [
        "list(example_model.named_parameters())"
      ],
      "execution_count": 30,
      "outputs": [
        {
          "output_type": "execute_result",
          "data": {
            "text/plain": [
              "[('exponent', Parameter containing:\n",
              "  tensor(1., requires_grad=True)), ('linear.weight', Parameter containing:\n",
              "  tensor([[ 0.1930,  0.0982,  0.2016,  0.1974,  0.0592,  0.1147, -0.0805, -0.1470,\n",
              "            0.2363, -0.1402],\n",
              "          [ 0.0957, -0.2338, -0.1695, -0.1359, -0.1167,  0.0745, -0.0330, -0.2755,\n",
              "            0.2197, -0.2767]], requires_grad=True)), ('linear.bias',\n",
              "  Parameter containing:\n",
              "  tensor([0.2678, 0.2512], requires_grad=True))]"
            ]
          },
          "metadata": {
            "tags": []
          },
          "execution_count": 30
        }
      ]
    },
    {
      "cell_type": "code",
      "metadata": {
        "colab": {
          "base_uri": "https://localhost:8080/"
        },
        "id": "8dASqVLnXYHn",
        "outputId": "7fa86649-71c9-4387-c16e-2a44fb04f34c"
      },
      "source": [
        "input = torch.randn(2, 10)\n",
        "example_model(input)"
      ],
      "execution_count": 31,
      "outputs": [
        {
          "output_type": "execute_result",
          "data": {
            "text/plain": [
              "tensor([[ 0.8279,  1.0500],\n",
              "        [ 0.4653, -0.3032]], grad_fn=<PowBackward1>)"
            ]
          },
          "metadata": {
            "tags": []
          },
          "execution_count": 31
        }
      ]
    },
    {
      "cell_type": "code",
      "metadata": {
        "id": "St8Ne8FUXaBO"
      },
      "source": [
        ""
      ],
      "execution_count": null,
      "outputs": []
    }
  ]
}